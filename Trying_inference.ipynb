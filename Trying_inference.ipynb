{
 "cells": [
  {
   "cell_type": "markdown",
   "id": "e78fe824-4691-42d5-9dda-16a4652390d1",
   "metadata": {},
   "source": [
    "# Inference time for customs"
   ]
  },
  {
   "cell_type": "code",
   "execution_count": 69,
   "id": "7aea3616-566c-4db6-b03e-ef24c61b07ba",
   "metadata": {},
   "outputs": [],
   "source": [
    "import torch"
   ]
  },
  {
   "cell_type": "code",
   "execution_count": 70,
   "id": "efb4efb4-6516-4a89-9559-2b0672367862",
   "metadata": {},
   "outputs": [],
   "source": [
    "from sklearn.preprocessing import OneHotEncoder"
   ]
  },
  {
   "cell_type": "code",
   "execution_count": 71,
   "id": "93cde8a9-f4c6-4b79-99d3-18fb3806da15",
   "metadata": {},
   "outputs": [
    {
     "name": "stdout",
     "output_type": "stream",
     "text": [
      "cuda\n"
     ]
    }
   ],
   "source": [
    "from utils_transformer import *\n",
    "import pandas as pd\n",
    "import numpy as np\n",
    "import matplotlib.pyplot as plt\n",
    "link2=\"predictions_2023-07-29T02.csv\"\n",
    "link1=\"results_analysis_v1.csv\"\n",
    "from sentence_transformers import SentenceTransformer, util\n",
    "import torch\n",
    "device= 'cuda' if torch.cuda.is_available() else 'cpu'\n",
    "print(device)\n",
    "from tqdm import tqdm"
   ]
  },
  {
   "cell_type": "code",
   "execution_count": 72,
   "id": "472d85c5-fe85-492b-b1dc-cce9eec78617",
   "metadata": {},
   "outputs": [
    {
     "data": {
      "text/plain": [
       "Encoder_Smash(\n",
       "  (embedding): Embedding(28996, 64)\n",
       "  (pos_encoding): PositionalEncodingsyeah(\n",
       "    (dropout): Dropout(p=0.2, inplace=False)\n",
       "  )\n",
       "  (all_transformer_blocks): Sequential(\n",
       "    (0): TransformadorBlock(\n",
       "      (layern1): LayerNorm((64,), eps=1e-05, elementwise_affine=True)\n",
       "      (layern2): LayerNorm((64,), eps=1e-05, elementwise_affine=True)\n",
       "      (mha_created): MultiheadAttention(\n",
       "        (keys): Linear(in_features=64, out_features=64, bias=True)\n",
       "        (value): Linear(in_features=64, out_features=64, bias=True)\n",
       "        (query): Linear(in_features=64, out_features=64, bias=True)\n",
       "        (fin_layer): Linear(in_features=64, out_features=64, bias=True)\n",
       "      )\n",
       "      (ann): Sequential(\n",
       "        (0): Linear(in_features=64, out_features=256, bias=True)\n",
       "        (1): GELU(approximate='none')\n",
       "        (2): Linear(in_features=256, out_features=64, bias=True)\n",
       "        (3): Dropout(p=0.2, inplace=False)\n",
       "      )\n",
       "      (dropoutlay): Dropout(p=0.2, inplace=False)\n",
       "    )\n",
       "    (1): TransformadorBlock(\n",
       "      (layern1): LayerNorm((64,), eps=1e-05, elementwise_affine=True)\n",
       "      (layern2): LayerNorm((64,), eps=1e-05, elementwise_affine=True)\n",
       "      (mha_created): MultiheadAttention(\n",
       "        (keys): Linear(in_features=64, out_features=64, bias=True)\n",
       "        (value): Linear(in_features=64, out_features=64, bias=True)\n",
       "        (query): Linear(in_features=64, out_features=64, bias=True)\n",
       "        (fin_layer): Linear(in_features=64, out_features=64, bias=True)\n",
       "      )\n",
       "      (ann): Sequential(\n",
       "        (0): Linear(in_features=64, out_features=256, bias=True)\n",
       "        (1): GELU(approximate='none')\n",
       "        (2): Linear(in_features=256, out_features=64, bias=True)\n",
       "        (3): Dropout(p=0.2, inplace=False)\n",
       "      )\n",
       "      (dropoutlay): Dropout(p=0.2, inplace=False)\n",
       "    )\n",
       "  )\n",
       "  (layer_norm): LayerNorm((64,), eps=1e-05, elementwise_affine=True)\n",
       "  (final_classif): Linear(in_features=64, out_features=351, bias=True)\n",
       ")"
      ]
     },
     "execution_count": 72,
     "metadata": {},
     "output_type": "execute_result"
    }
   ],
   "source": [
    "model_customs= Encoder_Smash(\n",
    "vocab_size= 28996,\n",
    "    max_len= 512,\n",
    "    d_k= 16,\n",
    "    d_model=64,\n",
    "    n_heads=4,\n",
    "    n_layers=2,\n",
    "    n_classes=351,\n",
    "    dropout_prob=0.2\n",
    ")\n",
    "model_customs.to(device)"
   ]
  },
  {
   "cell_type": "code",
   "execution_count": 73,
   "id": "8b29fba7-5e60-48ea-9acd-8d6514899dcb",
   "metadata": {},
   "outputs": [
    {
     "data": {
      "text/plain": [
       "<All keys matched successfully>"
      ]
     },
     "execution_count": 73,
     "metadata": {},
     "output_type": "execute_result"
    }
   ],
   "source": [
    "model_customs.load_state_dict(torch.load('best_model.pt'))"
   ]
  },
  {
   "cell_type": "code",
   "execution_count": 190,
   "id": "b76f00e0-7c45-46f3-a127-b03d1da9a909",
   "metadata": {},
   "outputs": [
    {
     "name": "stderr",
     "output_type": "stream",
     "text": [
      "C:\\Users\\SESA608167.NAM\\AppData\\Local\\Temp\\ipykernel_40932\\4218247528.py:1: DtypeWarning: Columns (23) have mixed types. Specify dtype option on import or set low_memory=False.\n",
      "  res_df = pd.read_csv(link1)\n"
     ]
    }
   ],
   "source": [
    "res_df = pd.read_csv(link1)\n",
    "act_df = pd.read_csv(link2)\n",
    "model_feed=res_df[['medium_description_pim','HS_Code_x','Val-NoVal','ProductNum']]\n",
    "model_feed_val= model_feed[model_feed['Val-NoVal']=='validated']\n",
    "df_for_onehot =model_feed_val['HS_Code_x'].value_counts().reset_index()\n",
    "df_for_onehot['index_3']=df_for_onehot.index\n",
    "model_feed_val2=model_feed_val.merge(df_for_onehot, left_on= 'HS_Code_x', right_on='index', how='inner')\n",
    "y= model_feed_val2['index_3']\n",
    "onhe=OneHotEncoder(handle_unknown='ignore', sparse=False).fit(y.to_numpy().reshape(-1,1))"
   ]
  },
  {
   "cell_type": "code",
   "execution_count": 93,
   "id": "031ab777-3031-4141-b02e-e8209b31219a",
   "metadata": {},
   "outputs": [],
   "source": [
    "from datasets import load_dataset\n",
    "from datasets import Dataset, DatasetDict\n",
    "from transformers import AutoTokenizer, DataCollatorWithPadding\n",
    "from torch.utils.data import DataLoader"
   ]
  },
  {
   "cell_type": "code",
   "execution_count": null,
   "id": "ea141aba-98c2-48e5-9667-85c9981e9c30",
   "metadata": {},
   "outputs": [],
   "source": []
  },
  {
   "cell_type": "code",
   "execution_count": 193,
   "id": "99537ad1-6fb9-4f39-b7d8-ed19a1909215",
   "metadata": {},
   "outputs": [],
   "source": [
    "raw_ds=DatasetDict({'train':\n",
    "    Dataset.from_pandas(model_feed_val2)\n",
    "           \n",
    "} )\n",
    "checkpoint= 'distilbert-base-cased'\n",
    "tokenizer= AutoTokenizer.from_pretrained(checkpoint)\n",
    "def tokenize_func(batch):\n",
    "    return tokenizer(batch['medium_description_pim'], truncation=True)"
   ]
  },
  {
   "cell_type": "code",
   "execution_count": 194,
   "id": "4e3ae6eb-fb77-43a1-9e38-ea4932a80285",
   "metadata": {},
   "outputs": [
    {
     "data": {
      "application/vnd.jupyter.widget-view+json": {
       "model_id": "",
       "version_major": 2,
       "version_minor": 0
      },
      "text/plain": [
       "Map:   0%|          | 0/105093 [00:00<?, ? examples/s]"
      ]
     },
     "metadata": {},
     "output_type": "display_data"
    }
   ],
   "source": [
    "token_ds= raw_ds.map(tokenize_func, batched=True)\n",
    "data_collator= DataCollatorWithPadding(tokenizer=tokenizer)"
   ]
  },
  {
   "cell_type": "code",
   "execution_count": 195,
   "id": "695558c6-b7c9-4f74-af7b-b143015a7034",
   "metadata": {},
   "outputs": [
    {
     "data": {
      "text/plain": [
       "DataCollatorWithPadding(tokenizer=DistilBertTokenizerFast(name_or_path='distilbert-base-cased', vocab_size=28996, model_max_length=512, is_fast=True, padding_side='right', truncation_side='right', special_tokens={'unk_token': '[UNK]', 'sep_token': '[SEP]', 'pad_token': '[PAD]', 'cls_token': '[CLS]', 'mask_token': '[MASK]'}, clean_up_tokenization_spaces=True), padding=True, max_length=None, pad_to_multiple_of=None, return_tensors='pt')"
      ]
     },
     "execution_count": 195,
     "metadata": {},
     "output_type": "execute_result"
    }
   ],
   "source": [
    "data_collator"
   ]
  },
  {
   "cell_type": "code",
   "execution_count": 196,
   "id": "824ee599-4549-42fe-a907-656ce611000d",
   "metadata": {},
   "outputs": [],
   "source": [
    "token_ds_backup=token_ds\n",
    "token_ds=token_ds.remove_columns(['medium_description_pim','Val-NoVal','__index_level_0__', 'HS_Code_x_x','HS_Code_x_y', 'index','ProductNum'])\n",
    "token_ds=token_ds.rename_column('index_3','labels')"
   ]
  },
  {
   "cell_type": "code",
   "execution_count": 197,
   "id": "5bcc501d-01bb-4fd5-9964-2903830f9b94",
   "metadata": {},
   "outputs": [],
   "source": [
    "train_loader= DataLoader(\n",
    "token_ds['train'],\n",
    "    shuffle=False,\n",
    "    batch_size=32,\n",
    "    collate_fn=data_collator\n",
    ")"
   ]
  },
  {
   "cell_type": "code",
   "execution_count": 198,
   "id": "51acb449-f2f3-4296-992e-9ec7f5ff63f5",
   "metadata": {},
   "outputs": [
    {
     "name": "stderr",
     "output_type": "stream",
     "text": [
      "You're using a DistilBertTokenizerFast tokenizer. Please note that with a fast tokenizer, using the `__call__` method is faster than using a method to encode the text followed by a call to the `pad` method to get a padded encoding.\n"
     ]
    },
    {
     "name": "stdout",
     "output_type": "stream",
     "text": [
      "tensor([  101, 12008,  8223, 14895, 21484,   131, 12786,  5822,   117,  5096,\n",
      "         3962,   131,  4372,  1568,  6262,   117,  6475,   131,  1398,   117,\n",
      "          123,   118, 24781,   117,   121,   118,  1620,   140,   117,   138,\n",
      "        19515,   131,   121,   119,   125,   110,   117, 23676,  2137, 12882,\n",
      "         1568,   118,  2539,   121,   120,  1620,   102,     0,     0,     0,\n",
      "            0,     0,     0,     0,     0,     0])\n",
      "56\n"
     ]
    }
   ],
   "source": [
    "# Check chak after padded\n",
    "for batch in train_loader:\n",
    "    print(batch['input_ids'][19])\n",
    "    print(len(batch['input_ids'][19]))\n",
    "    break"
   ]
  },
  {
   "cell_type": "code",
   "execution_count": 199,
   "id": "bc024630-8618-48f3-96b2-6f042ad48e4e",
   "metadata": {},
   "outputs": [
    {
     "name": "stdout",
     "output_type": "stream",
     "text": [
      "56\n"
     ]
    }
   ],
   "source": [
    "for batch in train_loader:\n",
    "    print(len(batch['input_ids'][0]))\n",
    "    break"
   ]
  },
  {
   "cell_type": "code",
   "execution_count": 200,
   "id": "f50cbe89-6274-45fd-bb18-c8aa53ab736e",
   "metadata": {},
   "outputs": [
    {
     "data": {
      "text/plain": [
       "'Temp Sensor: Duct, Probe: 6000mm, Systems: All, 2-Wire, 0-100 C, Acc: 0.4 %, STD400-60 0/100'"
      ]
     },
     "execution_count": 200,
     "metadata": {},
     "output_type": "execute_result"
    }
   ],
   "source": [
    "token_ds_backup['train']['medium_description_pim'][19]"
   ]
  },
  {
   "cell_type": "code",
   "execution_count": 201,
   "id": "f3d8e600-ed22-49c8-80c1-3166ddaa92d1",
   "metadata": {},
   "outputs": [
    {
     "name": "stdout",
     "output_type": "stream",
     "text": [
      "58\n",
      "902519\n"
     ]
    }
   ],
   "source": [
    "print(token_ds_backup['train']['index_3'][19])\n",
    "print(token_ds_backup['train']['index'][19])"
   ]
  },
  {
   "cell_type": "code",
   "execution_count": 202,
   "id": "7c49952a-4efb-481b-b68c-13d9b8fc4b78",
   "metadata": {},
   "outputs": [
    {
     "data": {
      "text/html": [
       "<div>\n",
       "<style scoped>\n",
       "    .dataframe tbody tr th:only-of-type {\n",
       "        vertical-align: middle;\n",
       "    }\n",
       "\n",
       "    .dataframe tbody tr th {\n",
       "        vertical-align: top;\n",
       "    }\n",
       "\n",
       "    .dataframe thead th {\n",
       "        text-align: right;\n",
       "    }\n",
       "</style>\n",
       "<table border=\"1\" class=\"dataframe\">\n",
       "  <thead>\n",
       "    <tr style=\"text-align: right;\">\n",
       "      <th></th>\n",
       "      <th>index</th>\n",
       "      <th>HS_Code_x</th>\n",
       "      <th>index_3</th>\n",
       "    </tr>\n",
       "  </thead>\n",
       "  <tbody>\n",
       "    <tr>\n",
       "      <th>58</th>\n",
       "      <td>902519</td>\n",
       "      <td>130</td>\n",
       "      <td>58</td>\n",
       "    </tr>\n",
       "  </tbody>\n",
       "</table>\n",
       "</div>"
      ],
      "text/plain": [
       "     index  HS_Code_x  index_3\n",
       "58  902519        130       58"
      ]
     },
     "execution_count": 202,
     "metadata": {},
     "output_type": "execute_result"
    }
   ],
   "source": [
    "df_for_onehot[df_for_onehot['index']=='902519']"
   ]
  },
  {
   "cell_type": "code",
   "execution_count": 203,
   "id": "4fa7a735-0d91-42b8-8402-0d627985bbb3",
   "metadata": {},
   "outputs": [
    {
     "name": "stdout",
     "output_type": "stream",
     "text": [
      " Text acc: 0.9372460582531662\n"
     ]
    }
   ],
   "source": [
    "n_correct= 0.0\n",
    "n_correct_ver2= 0.0\n",
    "n_total=0.0\n",
    "output_list=[]\n",
    "output_list_by_batch=[]\n",
    "for batch in train_loader:\n",
    "    \n",
    "    batch = {k: v.to(device) for k, v in batch.items()}\n",
    "    the_number=batch['labels']\n",
    "    the_number2=np.array(the_number.cpu()).reshape(-1,1)\n",
    "    torched_labels= torch.tensor(onhe.transform(the_number2)).to(device)\n",
    "    outputs= model_customs(batch['input_ids'], batch['attention_mask'])\n",
    "    to_list=np.array(outputs.detach().cpu())\n",
    "    output_list_by_batch.append(to_list)\n",
    "    for single_out in to_list:\n",
    "        output_list.append(single_out)\n",
    "    _, predictions = torch.max(outputs,1)\n",
    "    n_correct += (predictions==batch['labels']).sum().item()\n",
    "    array3=np.array(torch.argmax(outputs, axis=1).detach().cpu())\n",
    "    array4=np.array(torch.argmax(torched_labels, axis=1).detach().cpu())\n",
    "    n_correct_ver2+= sum(array3==array4)\n",
    "    n_total += batch['labels'].shape[0]\n",
    "test_acc= n_correct/n_total\n",
    "test_acc2=n_correct_ver2/n_total\n",
    "print(f' Text acc: {test_acc}')"
   ]
  },
  {
   "cell_type": "code",
   "execution_count": 204,
   "id": "53967c7f-9acd-4bd8-a743-3fbabb043ee3",
   "metadata": {},
   "outputs": [
    {
     "data": {
      "text/plain": [
       "98498.0"
      ]
     },
     "execution_count": 204,
     "metadata": {},
     "output_type": "execute_result"
    }
   ],
   "source": [
    "n_correct_ver2"
   ]
  },
  {
   "cell_type": "code",
   "execution_count": 205,
   "id": "9d5673b8-5a39-4c83-824d-ffc53a99320c",
   "metadata": {},
   "outputs": [
    {
     "data": {
      "text/plain": [
       "98498.0"
      ]
     },
     "execution_count": 205,
     "metadata": {},
     "output_type": "execute_result"
    }
   ],
   "source": [
    "n_correct"
   ]
  },
  {
   "cell_type": "code",
   "execution_count": 206,
   "id": "34bdb947-56d8-4a5c-914b-8af9002db386",
   "metadata": {},
   "outputs": [
    {
     "data": {
      "text/plain": [
       "105093.0"
      ]
     },
     "execution_count": 206,
     "metadata": {},
     "output_type": "execute_result"
    }
   ],
   "source": [
    "n_total"
   ]
  },
  {
   "cell_type": "code",
   "execution_count": 209,
   "id": "5300b3e8-5e53-4062-84e3-488234076556",
   "metadata": {},
   "outputs": [
    {
     "data": {
      "text/plain": [
       "array([ -8.521733 ,  -5.061152 ,  -9.768784 ,  -8.632462 , -12.992258 ,\n",
       "       -13.704337 , -11.49689  ,  -8.324841 ,  -6.7064657, -11.221553 ,\n",
       "       -11.345498 ,  -7.6209126, -18.870478 ,  -9.660956 ,  -9.825319 ,\n",
       "        -7.041059 , -13.603882 , -15.76269  , -11.703709 , -10.920628 ,\n",
       "       -21.546364 ,  -7.4851174, -19.613148 ,  -4.8723583,  -9.712845 ,\n",
       "        -9.389515 ,  -8.176589 , -10.261168 , -13.251736 , -17.693262 ,\n",
       "       -11.296856 , -11.517308 ,  -9.124899 , -15.991551 ,  -8.33569  ,\n",
       "       -15.915739 , -17.054216 , -13.400009 , -15.377597 , -16.817474 ,\n",
       "       -23.030136 ,  -3.7993703, -14.037158 ,  -8.579782 ,  -6.3065486,\n",
       "       -20.691301 , -11.962691 ,  -7.609716 ,  -9.901137 , -11.840009 ,\n",
       "       -10.012627 , -15.871306 ,  -9.035135 , -17.870354 ,  -9.967959 ,\n",
       "       -12.2641   , -17.922886 , -13.21751  ,   4.466721 , -12.361855 ,\n",
       "       -19.161203 , -13.816442 , -16.33972  , -21.177174 ,  -6.1720934,\n",
       "       -11.402507 ,  -8.800237 , -11.074249 , -13.862703 , -15.16844  ,\n",
       "       -12.580367 , -11.016192 ,  -9.544533 ,  -9.772761 , -15.39113  ,\n",
       "       -24.007925 , -15.882228 , -14.834372 , -18.826796 , -14.31117  ,\n",
       "        -5.386783 , -13.724607 ,  -3.5677814, -18.174534 ,  -6.3396707,\n",
       "       -12.131494 , -15.622648 , -18.900337 , -15.134799 , -16.602571 ,\n",
       "       -14.5018215, -21.794199 , -10.827833 , -13.445174 , -14.988658 ,\n",
       "        -9.762598 , -11.279818 , -12.3585415, -13.775041 , -13.97195  ,\n",
       "       -18.05939  , -14.54252  , -10.809739 , -12.729946 , -17.66011  ,\n",
       "       -10.826737 , -15.321068 , -23.12034  ,  -7.933568 ,  -8.667258 ,\n",
       "       -11.685362 , -16.851828 , -17.026976 , -19.165342 , -12.320771 ,\n",
       "       -20.221853 ,  -9.216197 , -11.718103 , -12.690168 , -12.974457 ,\n",
       "       -25.304949 , -16.415407 , -16.215923 , -20.43546  , -14.938337 ,\n",
       "        -8.741599 , -10.710563 , -11.758498 , -15.507683 , -23.75797  ,\n",
       "       -15.42391  , -18.783041 ,  -3.281436 , -12.462526 , -24.431185 ,\n",
       "       -14.142852 , -10.033818 , -16.37836  ,  -8.848053 , -18.331648 ,\n",
       "       -20.695078 , -20.085203 ,  -9.553329 ,  -9.210531 , -10.677568 ,\n",
       "       -15.093344 ,  -6.6655846, -17.781755 , -12.538808 , -12.328631 ,\n",
       "       -11.830154 , -14.278121 ,  -4.334309 , -12.149973 , -17.728563 ,\n",
       "       -20.056004 , -12.906535 , -17.881277 , -24.005898 , -22.117878 ,\n",
       "       -12.824555 , -18.744032 , -21.118061 , -17.559982 , -16.16184  ,\n",
       "       -18.053318 , -22.935963 , -14.237513 ,  -9.987879 , -19.327574 ,\n",
       "        -8.433215 , -25.384226 , -19.536034 , -14.741438 , -11.735024 ,\n",
       "       -23.125637 , -12.158631 , -16.265354 , -18.998196 , -17.215008 ,\n",
       "       -10.290885 , -17.18215  , -25.52346  , -12.331576 , -13.352251 ,\n",
       "       -13.162404 , -15.388066 , -18.368193 , -15.789004 , -19.376236 ,\n",
       "        -7.51165  , -14.396706 , -15.057564 , -21.392578 , -10.119317 ,\n",
       "       -20.890593 ,  -8.976701 , -17.289686 , -13.300347 , -17.85597  ,\n",
       "        -9.469535 , -19.586224 ,  -8.928256 , -19.183186 ,  -9.523825 ,\n",
       "       -12.020391 , -13.027422 , -14.716056 , -13.785226 , -24.938562 ,\n",
       "       -14.800684 , -16.96704  , -21.325071 , -19.190695 , -12.599359 ,\n",
       "       -20.12707  , -16.97368  , -20.483742 , -14.826962 , -11.098118 ,\n",
       "       -15.757191 , -14.377439 , -18.336458 , -17.966776 , -16.08961  ,\n",
       "       -14.461725 , -21.0088   , -14.318111 , -19.70392  , -12.484451 ,\n",
       "       -18.793211 ,  -9.079003 , -10.263749 , -15.314595 , -19.607445 ,\n",
       "       -20.143885 , -16.151035 , -16.190058 , -16.060638 , -21.262787 ,\n",
       "       -14.229207 , -21.280706 ,  -8.226984 , -19.124458 , -22.059938 ,\n",
       "       -11.15016  , -19.301552 , -22.9151   , -22.005764 , -18.100435 ,\n",
       "       -14.904479 , -26.918535 , -13.3059435, -16.965982 ,  -9.251425 ,\n",
       "       -16.680513 , -25.285522 , -21.957344 , -23.266916 , -20.544153 ,\n",
       "       -19.4242   , -13.964031 , -13.873826 , -17.237122 , -15.585702 ,\n",
       "       -18.494116 , -18.345173 , -14.418141 , -21.686075 , -13.740824 ,\n",
       "       -11.008534 , -21.365063 , -17.346867 , -11.11912  , -15.38862  ,\n",
       "       -17.629194 , -16.526264 , -20.814087 , -18.725672 , -23.152279 ,\n",
       "       -21.144257 , -17.271639 , -15.638829 , -23.363806 , -18.840904 ,\n",
       "       -18.120642 , -17.225733 , -22.45539  , -14.504284 , -19.48536  ,\n",
       "       -14.713788 ,  -7.4342947, -25.775259 , -16.87894  , -15.208143 ,\n",
       "       -13.209495 , -14.472714 , -20.68694  , -13.494472 , -12.467578 ,\n",
       "       -13.638054 , -18.4403   , -23.12662  , -23.262186 , -18.425062 ,\n",
       "       -18.188843 , -20.9191   ,  -8.994232 , -24.52379  , -12.551725 ,\n",
       "       -11.655067 , -18.385298 ,  -6.4911184, -18.45561  , -18.308666 ,\n",
       "       -19.151516 , -20.015337 , -20.840668 , -15.810605 , -14.135983 ,\n",
       "       -20.023155 , -20.712961 , -21.75163  , -18.26936  , -23.891312 ,\n",
       "       -16.191362 , -18.886047 , -18.63376  , -18.948149 , -14.631279 ,\n",
       "       -20.297752 ,  -9.82465  , -19.380098 , -20.542873 , -16.087366 ,\n",
       "       -18.53564  , -11.546995 , -23.899036 , -19.640327 , -16.375525 ,\n",
       "       -25.95607  , -15.946927 , -17.410202 , -10.884071 , -18.88117  ,\n",
       "       -21.354904 , -14.405342 , -17.31917  , -18.753014 , -10.369734 ,\n",
       "       -18.897526 ], dtype=float32)"
      ]
     },
     "execution_count": 209,
     "metadata": {},
     "output_type": "execute_result"
    }
   ],
   "source": [
    "output_list[19]"
   ]
  },
  {
   "cell_type": "code",
   "execution_count": 210,
   "id": "ec7a4418-0835-4570-a832-abf4d1041342",
   "metadata": {},
   "outputs": [
    {
     "data": {
      "text/plain": [
       "58"
      ]
     },
     "execution_count": 210,
     "metadata": {},
     "output_type": "execute_result"
    }
   ],
   "source": [
    "output_list[9].argmax()"
   ]
  },
  {
   "cell_type": "code",
   "execution_count": 211,
   "id": "d92f74a6-9e46-4a14-9429-fbf17e85830d",
   "metadata": {},
   "outputs": [],
   "source": [
    "argmax_list=[]\n",
    "for i in output_list:\n",
    "    argmax_list.append(i.argmax())"
   ]
  },
  {
   "cell_type": "code",
   "execution_count": 212,
   "id": "0f16326a-5ad6-4f49-b8e2-922bebf0c4f2",
   "metadata": {},
   "outputs": [
    {
     "data": {
      "text/plain": [
       "105093"
      ]
     },
     "execution_count": 212,
     "metadata": {},
     "output_type": "execute_result"
    }
   ],
   "source": [
    "len(argmax_list)"
   ]
  },
  {
   "cell_type": "code",
   "execution_count": 213,
   "id": "869d9144-a568-444a-9db4-76b3a98e1159",
   "metadata": {},
   "outputs": [],
   "source": [
    "model_feed_val2['prediction']=argmax_list"
   ]
  },
  {
   "cell_type": "code",
   "execution_count": 214,
   "id": "36664e1b-cac3-40b2-8b2e-f782a3d49a5d",
   "metadata": {},
   "outputs": [
    {
     "data": {
      "text/plain": [
       "medium_description_pim    Temp Sensor: Duct, Probe: 6000mm, Systems: All...\n",
       "HS_Code_x_x                                                          902519\n",
       "Val-NoVal                                                         validated\n",
       "ProductNum                                                        006920761\n",
       "index                                                                902519\n",
       "HS_Code_x_y                                                             130\n",
       "index_3                                                                  58\n",
       "prediction                                                               58\n",
       "Name: 19, dtype: object"
      ]
     },
     "execution_count": 214,
     "metadata": {},
     "output_type": "execute_result"
    }
   ],
   "source": [
    "model_feed_val2.iloc[19]"
   ]
  },
  {
   "cell_type": "code",
   "execution_count": 215,
   "id": "f8acb75e-4336-4620-ab83-2fa268927fc7",
   "metadata": {},
   "outputs": [
    {
     "data": {
      "text/html": [
       "<div>\n",
       "<style scoped>\n",
       "    .dataframe tbody tr th:only-of-type {\n",
       "        vertical-align: middle;\n",
       "    }\n",
       "\n",
       "    .dataframe tbody tr th {\n",
       "        vertical-align: top;\n",
       "    }\n",
       "\n",
       "    .dataframe thead th {\n",
       "        text-align: right;\n",
       "    }\n",
       "</style>\n",
       "<table border=\"1\" class=\"dataframe\">\n",
       "  <thead>\n",
       "    <tr style=\"text-align: right;\">\n",
       "      <th></th>\n",
       "      <th>index</th>\n",
       "      <th>HS_Code_x</th>\n",
       "      <th>index_3</th>\n",
       "    </tr>\n",
       "  </thead>\n",
       "  <tbody>\n",
       "    <tr>\n",
       "      <th>58</th>\n",
       "      <td>902519</td>\n",
       "      <td>130</td>\n",
       "      <td>58</td>\n",
       "    </tr>\n",
       "  </tbody>\n",
       "</table>\n",
       "</div>"
      ],
      "text/plain": [
       "     index  HS_Code_x  index_3\n",
       "58  902519        130       58"
      ]
     },
     "execution_count": 215,
     "metadata": {},
     "output_type": "execute_result"
    }
   ],
   "source": [
    "df_for_onehot[df_for_onehot['index']=='902519']"
   ]
  },
  {
   "cell_type": "code",
   "execution_count": 216,
   "id": "38bc3539-9a53-4f82-a327-7edc19c87e6c",
   "metadata": {},
   "outputs": [],
   "source": [
    "df_for_onehot.columns= ['oh_index','oh_count','oh_code']"
   ]
  },
  {
   "cell_type": "code",
   "execution_count": 217,
   "id": "35d52a45-01d4-4a93-86b0-694cef2680f2",
   "metadata": {},
   "outputs": [],
   "source": [
    "model_feed_val3=model_feed_val2.merge(df_for_onehot, left_on= 'prediction', right_on='oh_code', how='inner')"
   ]
  },
  {
   "cell_type": "code",
   "execution_count": 218,
   "id": "09992fee-6500-4724-8220-26fa968ee9ae",
   "metadata": {},
   "outputs": [
    {
     "data": {
      "text/plain": [
       "medium_description_pim    Temp Sensor: Duct, Probe: 400mm, Systems: All,...\n",
       "HS_Code_x_x                                                          902519\n",
       "Val-NoVal                                                         validated\n",
       "ProductNum                                                        006920861\n",
       "index                                                                902519\n",
       "HS_Code_x_y                                                             130\n",
       "index_3                                                                  58\n",
       "prediction                                                               58\n",
       "oh_index                                                             902519\n",
       "oh_count                                                                130\n",
       "oh_code                                                                  58\n",
       "Name: 19, dtype: object"
      ]
     },
     "execution_count": 218,
     "metadata": {},
     "output_type": "execute_result"
    }
   ],
   "source": [
    "model_feed_val3.iloc[19]"
   ]
  },
  {
   "cell_type": "code",
   "execution_count": 219,
   "id": "db987d51-426e-4ca6-8798-1f2e8de55eae",
   "metadata": {},
   "outputs": [],
   "source": [
    "model_feed_val3['MATCH']=model_feed_val3['oh_index']==model_feed_val3['HS_Code_x_x']"
   ]
  },
  {
   "cell_type": "code",
   "execution_count": 220,
   "id": "638facbe-c127-40e6-9556-e5e77694ebf5",
   "metadata": {},
   "outputs": [
    {
     "data": {
      "text/plain": [
       "98498"
      ]
     },
     "execution_count": 220,
     "metadata": {},
     "output_type": "execute_result"
    }
   ],
   "source": [
    "sum(model_feed_val3['MATCH'])"
   ]
  },
  {
   "cell_type": "code",
   "execution_count": 221,
   "id": "6585fc07-fd2f-4e5f-a819-197905c13eea",
   "metadata": {},
   "outputs": [
    {
     "data": {
      "text/plain": [
       "0.9372460582531662"
      ]
     },
     "execution_count": 221,
     "metadata": {},
     "output_type": "execute_result"
    }
   ],
   "source": [
    "sum(model_feed_val3['MATCH'])/len(model_feed_val3['MATCH'])"
   ]
  },
  {
   "cell_type": "code",
   "execution_count": 223,
   "id": "86867a63-a8d3-47f6-84a9-859e349b1b2b",
   "metadata": {},
   "outputs": [
    {
     "data": {
      "text/plain": [
       "Index(['medium_description_pim', 'HS_Code_x_x', 'Val-NoVal', 'ProductNum',\n",
       "       'index', 'HS_Code_x_y', 'index_3', 'prediction', 'oh_index', 'oh_count',\n",
       "       'oh_code', 'MATCH'],\n",
       "      dtype='object')"
      ]
     },
     "execution_count": 223,
     "metadata": {},
     "output_type": "execute_result"
    }
   ],
   "source": [
    "model_feed_val3.columns"
   ]
  },
  {
   "cell_type": "code",
   "execution_count": 224,
   "id": "b02d1824-8e94-4294-8b0d-c6869f4a6868",
   "metadata": {},
   "outputs": [],
   "source": [
    "model_feed_val3.columns= ['Medium_desc_model','HS_Code_model','Val-NoVal_model','ProductNum',\n",
    "                          'index_model','HS_CodeY','index_3','prediction','oh_index','oh_count','oh_code','MATCH']"
   ]
  },
  {
   "cell_type": "code",
   "execution_count": 226,
   "id": "fe9198bf-cc50-4e98-9cae-eba47315d7b8",
   "metadata": {},
   "outputs": [],
   "source": [
    "title= 'transformer_encoder_resultsv1.csv'\n",
    "model_feed_val3.to_csv(title)"
   ]
  },
  {
   "cell_type": "code",
   "execution_count": 165,
   "id": "a36fb9b2-aef6-4aae-b84c-46804d8eb892",
   "metadata": {},
   "outputs": [
    {
     "data": {
      "text/plain": [
       "Index(['Unnamed: 0.2', 'Unnamed: 0.1', 'Unnamed: 0', 'ProductNum',\n",
       "       'GlobalHsNum', 'CountryHsNum', 'BusinessUnit', 'AssuranceLevel',\n",
       "       'CountryCode', 'Datasource', 'ECCNumber', 'HSNum2',\n",
       "       'commercial_reference_pim', 'medium_description_pim', 'gdp_code_pim',\n",
       "       'gdp_code_pmo', 'short_description_pmo', 'prediction',\n",
       "       'prediction_probability', 'HS_Code_x', 'Val-NoVal', 'Medium_desc_Trunc',\n",
       "       'desc_len', 'HS_Code_y', 'Count_HSCode', 'Match', 'pred_label'],\n",
       "      dtype='object')"
      ]
     },
     "execution_count": 165,
     "metadata": {},
     "output_type": "execute_result"
    }
   ],
   "source": [
    "res_df.columns"
   ]
  },
  {
   "cell_type": "code",
   "execution_count": 159,
   "id": "8bc0b2ac-a4af-4902-b220-ef61ba868408",
   "metadata": {},
   "outputs": [
    {
     "data": {
      "text/plain": [
       "(105093, 27)"
      ]
     },
     "execution_count": 159,
     "metadata": {},
     "output_type": "execute_result"
    }
   ],
   "source": [
    "res_df[res_df['Val-NoVal']=='validated'].shape"
   ]
  },
  {
   "cell_type": "code",
   "execution_count": 160,
   "id": "3407291d-700c-4732-bb9e-66edbea2ae32",
   "metadata": {},
   "outputs": [
    {
     "data": {
      "text/plain": [
       "105093"
      ]
     },
     "execution_count": 160,
     "metadata": {},
     "output_type": "execute_result"
    }
   ],
   "source": [
    "len(model_feed_val3['MATCH'])"
   ]
  },
  {
   "cell_type": "code",
   "execution_count": 164,
   "id": "97e00cf7-bd78-4db6-9ec5-2cca55a54f19",
   "metadata": {},
   "outputs": [],
   "source": [
    "model_feed_val3.columns= ['Medium_desc_model','HS_Code_model','Val-NoVal_model','index_model','HS_CodeY','index_3','prediction','oh_index','oh_count','oh_code','MATCH']"
   ]
  },
  {
   "cell_type": "code",
   "execution_count": 166,
   "id": "ed0ea2f3-31e3-494a-b09f-6fde733c71a4",
   "metadata": {},
   "outputs": [],
   "source": [
    "model_feed_val4=model_feed_val3.merge(res_df, left_on= 'Medium_desc_model', right_on='medium_description_pim', how='inner')"
   ]
  },
  {
   "cell_type": "code",
   "execution_count": 167,
   "id": "d5b2e3dd-8a8b-445e-9471-b5147a086194",
   "metadata": {},
   "outputs": [],
   "source": [
    "title= 'transformer_encoder_resultsv1.csv'\n",
    "model_feed_val4.to_csv(title)"
   ]
  },
  {
   "cell_type": "code",
   "execution_count": 178,
   "id": "ce2bc7b3-612a-453a-8a1f-2080de54cdf1",
   "metadata": {},
   "outputs": [],
   "source": [
    "result_pm_fin=model_feed_val4.groupby('ProductNum')['HS_Code_model'].count()"
   ]
  },
  {
   "cell_type": "code",
   "execution_count": 183,
   "id": "0e891dc1-9568-4a22-913a-2e2c01f5cc1b",
   "metadata": {},
   "outputs": [
    {
     "data": {
      "text/plain": [
       "ProductNum\n",
       "0011055002600        1\n",
       "MINBAC000002050      1\n",
       "MINBAC000002049      1\n",
       "MINBAC000002048      1\n",
       "MINBAC000002047      1\n",
       "                  ... \n",
       "PFXGP4601TMDF3     189\n",
       "PFXGP4601TMDF2C    189\n",
       "PFXGP4601TMDF2     189\n",
       "PFXGP4603TADF3C    189\n",
       "PFXGP4601TMAF3C    189\n",
       "Name: HS_Code_model, Length: 111315, dtype: int64"
      ]
     },
     "execution_count": 183,
     "metadata": {},
     "output_type": "execute_result"
    }
   ],
   "source": [
    "result_pm_fin.sort_values()"
   ]
  },
  {
   "cell_type": "code",
   "execution_count": 184,
   "id": "fd17323b-fc18-4f12-ab01-933dc5c0ee9b",
   "metadata": {},
   "outputs": [
    {
     "data": {
      "text/html": [
       "<div>\n",
       "<style scoped>\n",
       "    .dataframe tbody tr th:only-of-type {\n",
       "        vertical-align: middle;\n",
       "    }\n",
       "\n",
       "    .dataframe tbody tr th {\n",
       "        vertical-align: top;\n",
       "    }\n",
       "\n",
       "    .dataframe thead th {\n",
       "        text-align: right;\n",
       "    }\n",
       "</style>\n",
       "<table border=\"1\" class=\"dataframe\">\n",
       "  <thead>\n",
       "    <tr style=\"text-align: right;\">\n",
       "      <th></th>\n",
       "      <th>Unnamed: 0.2</th>\n",
       "      <th>Unnamed: 0.1</th>\n",
       "      <th>Unnamed: 0</th>\n",
       "      <th>ProductNum</th>\n",
       "      <th>GlobalHsNum</th>\n",
       "      <th>CountryHsNum</th>\n",
       "      <th>BusinessUnit</th>\n",
       "      <th>AssuranceLevel</th>\n",
       "      <th>CountryCode</th>\n",
       "      <th>Datasource</th>\n",
       "      <th>...</th>\n",
       "      <th>prediction</th>\n",
       "      <th>prediction_probability</th>\n",
       "      <th>HS_Code_x</th>\n",
       "      <th>Val-NoVal</th>\n",
       "      <th>Medium_desc_Trunc</th>\n",
       "      <th>desc_len</th>\n",
       "      <th>HS_Code_y</th>\n",
       "      <th>Count_HSCode</th>\n",
       "      <th>Match</th>\n",
       "      <th>pred_label</th>\n",
       "    </tr>\n",
       "  </thead>\n",
       "  <tbody>\n",
       "    <tr>\n",
       "      <th>125398</th>\n",
       "      <td>125398</td>\n",
       "      <td>124161</td>\n",
       "      <td>170261</td>\n",
       "      <td>PFXGP4601TMAF3C</td>\n",
       "      <td>853710</td>\n",
       "      <td>8537109199</td>\n",
       "      <td>SE</td>\n",
       "      <td>3</td>\n",
       "      <td>NL</td>\n",
       "      <td>MDG</td>\n",
       "      <td>...</td>\n",
       "      <td>853710</td>\n",
       "      <td>1.0</td>\n",
       "      <td>853710</td>\n",
       "      <td>validated</td>\n",
       "      <td>Graphic Display Panel</td>\n",
       "      <td>21</td>\n",
       "      <td>853710</td>\n",
       "      <td>123.0</td>\n",
       "      <td>True</td>\n",
       "      <td>&gt;95%</td>\n",
       "    </tr>\n",
       "  </tbody>\n",
       "</table>\n",
       "<p>1 rows × 27 columns</p>\n",
       "</div>"
      ],
      "text/plain": [
       "        Unnamed: 0.2  Unnamed: 0.1  Unnamed: 0       ProductNum GlobalHsNum  \\\n",
       "125398        125398        124161      170261  PFXGP4601TMAF3C      853710   \n",
       "\n",
       "       CountryHsNum BusinessUnit  AssuranceLevel CountryCode Datasource  ...  \\\n",
       "125398   8537109199           SE               3          NL        MDG  ...   \n",
       "\n",
       "       prediction prediction_probability HS_Code_x  Val-NoVal  \\\n",
       "125398     853710                    1.0    853710  validated   \n",
       "\n",
       "            Medium_desc_Trunc desc_len HS_Code_y  Count_HSCode  Match  \\\n",
       "125398  Graphic Display Panel       21    853710         123.0   True   \n",
       "\n",
       "       pred_label  \n",
       "125398       >95%  \n",
       "\n",
       "[1 rows x 27 columns]"
      ]
     },
     "execution_count": 184,
     "metadata": {},
     "output_type": "execute_result"
    }
   ],
   "source": [
    "res_df[res_df['ProductNum']=='PFXGP4601TMAF3C']"
   ]
  },
  {
   "cell_type": "code",
   "execution_count": 185,
   "id": "e29ba51d-616a-4615-a751-4bcd8bad22f8",
   "metadata": {},
   "outputs": [
    {
     "data": {
      "text/html": [
       "<div>\n",
       "<style scoped>\n",
       "    .dataframe tbody tr th:only-of-type {\n",
       "        vertical-align: middle;\n",
       "    }\n",
       "\n",
       "    .dataframe tbody tr th {\n",
       "        vertical-align: top;\n",
       "    }\n",
       "\n",
       "    .dataframe thead th {\n",
       "        text-align: right;\n",
       "    }\n",
       "</style>\n",
       "<table border=\"1\" class=\"dataframe\">\n",
       "  <thead>\n",
       "    <tr style=\"text-align: right;\">\n",
       "      <th></th>\n",
       "      <th>Unnamed: 0.2</th>\n",
       "      <th>Unnamed: 0.1</th>\n",
       "      <th>Unnamed: 0</th>\n",
       "      <th>ProductNum</th>\n",
       "      <th>GlobalHsNum</th>\n",
       "      <th>CountryHsNum</th>\n",
       "      <th>BusinessUnit</th>\n",
       "      <th>AssuranceLevel</th>\n",
       "      <th>CountryCode</th>\n",
       "      <th>Datasource</th>\n",
       "      <th>...</th>\n",
       "      <th>prediction</th>\n",
       "      <th>prediction_probability</th>\n",
       "      <th>HS_Code_x</th>\n",
       "      <th>Val-NoVal</th>\n",
       "      <th>Medium_desc_Trunc</th>\n",
       "      <th>desc_len</th>\n",
       "      <th>HS_Code_y</th>\n",
       "      <th>Count_HSCode</th>\n",
       "      <th>Match</th>\n",
       "      <th>pred_label</th>\n",
       "    </tr>\n",
       "  </thead>\n",
       "  <tbody>\n",
       "    <tr>\n",
       "      <th>125341</th>\n",
       "      <td>125341</td>\n",
       "      <td>124104</td>\n",
       "      <td>170201</td>\n",
       "      <td>PFXGP3300HLAD</td>\n",
       "      <td>852852</td>\n",
       "      <td>8528529100</td>\n",
       "      <td>SE</td>\n",
       "      <td>2</td>\n",
       "      <td>NL</td>\n",
       "      <td>MDG</td>\n",
       "      <td>...</td>\n",
       "      <td>853710</td>\n",
       "      <td>0.999999</td>\n",
       "      <td>852852</td>\n",
       "      <td>Non validated</td>\n",
       "      <td>Graphic Display Panel</td>\n",
       "      <td>21</td>\n",
       "      <td>853710</td>\n",
       "      <td>123.0</td>\n",
       "      <td>False</td>\n",
       "      <td>&gt;95%</td>\n",
       "    </tr>\n",
       "    <tr>\n",
       "      <th>125342</th>\n",
       "      <td>125342</td>\n",
       "      <td>124105</td>\n",
       "      <td>170202</td>\n",
       "      <td>PFXGP3300HLADGK</td>\n",
       "      <td>853710</td>\n",
       "      <td>8471410000</td>\n",
       "      <td>SE</td>\n",
       "      <td>1</td>\n",
       "      <td>NL</td>\n",
       "      <td>MDG</td>\n",
       "      <td>...</td>\n",
       "      <td>853710</td>\n",
       "      <td>0.999999</td>\n",
       "      <td>847141</td>\n",
       "      <td>Non validated</td>\n",
       "      <td>Graphic Display Panel</td>\n",
       "      <td>21</td>\n",
       "      <td>853710</td>\n",
       "      <td>123.0</td>\n",
       "      <td>False</td>\n",
       "      <td>&gt;95%</td>\n",
       "    </tr>\n",
       "    <tr>\n",
       "      <th>125343</th>\n",
       "      <td>125343</td>\n",
       "      <td>124106</td>\n",
       "      <td>170203</td>\n",
       "      <td>PFXGP3300HLADRK</td>\n",
       "      <td>853710</td>\n",
       "      <td>8471410000</td>\n",
       "      <td>SE</td>\n",
       "      <td>1</td>\n",
       "      <td>NL</td>\n",
       "      <td>MDG</td>\n",
       "      <td>...</td>\n",
       "      <td>853710</td>\n",
       "      <td>0.999999</td>\n",
       "      <td>847141</td>\n",
       "      <td>Non validated</td>\n",
       "      <td>Graphic Display Panel</td>\n",
       "      <td>21</td>\n",
       "      <td>853710</td>\n",
       "      <td>123.0</td>\n",
       "      <td>False</td>\n",
       "      <td>&gt;95%</td>\n",
       "    </tr>\n",
       "    <tr>\n",
       "      <th>125344</th>\n",
       "      <td>125344</td>\n",
       "      <td>124107</td>\n",
       "      <td>170204</td>\n",
       "      <td>PFXGP3300HSADRK</td>\n",
       "      <td>852852</td>\n",
       "      <td>8528529100</td>\n",
       "      <td>SE</td>\n",
       "      <td>2</td>\n",
       "      <td>NL</td>\n",
       "      <td>MDG</td>\n",
       "      <td>...</td>\n",
       "      <td>853710</td>\n",
       "      <td>0.999999</td>\n",
       "      <td>852852</td>\n",
       "      <td>Non validated</td>\n",
       "      <td>Graphic Display Panel</td>\n",
       "      <td>21</td>\n",
       "      <td>853710</td>\n",
       "      <td>123.0</td>\n",
       "      <td>False</td>\n",
       "      <td>&gt;95%</td>\n",
       "    </tr>\n",
       "    <tr>\n",
       "      <th>125345</th>\n",
       "      <td>125345</td>\n",
       "      <td>124108</td>\n",
       "      <td>170205</td>\n",
       "      <td>PFXGP3310HTAD</td>\n",
       "      <td>852852</td>\n",
       "      <td>8528529100</td>\n",
       "      <td>SE</td>\n",
       "      <td>2</td>\n",
       "      <td>NL</td>\n",
       "      <td>MDG</td>\n",
       "      <td>...</td>\n",
       "      <td>853710</td>\n",
       "      <td>0.999999</td>\n",
       "      <td>852852</td>\n",
       "      <td>Non validated</td>\n",
       "      <td>Graphic Display Panel</td>\n",
       "      <td>21</td>\n",
       "      <td>853710</td>\n",
       "      <td>123.0</td>\n",
       "      <td>False</td>\n",
       "      <td>&gt;95%</td>\n",
       "    </tr>\n",
       "    <tr>\n",
       "      <th>...</th>\n",
       "      <td>...</td>\n",
       "      <td>...</td>\n",
       "      <td>...</td>\n",
       "      <td>...</td>\n",
       "      <td>...</td>\n",
       "      <td>...</td>\n",
       "      <td>...</td>\n",
       "      <td>...</td>\n",
       "      <td>...</td>\n",
       "      <td>...</td>\n",
       "      <td>...</td>\n",
       "      <td>...</td>\n",
       "      <td>...</td>\n",
       "      <td>...</td>\n",
       "      <td>...</td>\n",
       "      <td>...</td>\n",
       "      <td>...</td>\n",
       "      <td>...</td>\n",
       "      <td>...</td>\n",
       "      <td>...</td>\n",
       "      <td>...</td>\n",
       "    </tr>\n",
       "    <tr>\n",
       "      <th>227611</th>\n",
       "      <td>227611</td>\n",
       "      <td>224580</td>\n",
       "      <td>288580</td>\n",
       "      <td>PFXSP5700TPDF2C</td>\n",
       "      <td>852859</td>\n",
       "      <td>8529909200</td>\n",
       "      <td>SE</td>\n",
       "      <td>5</td>\n",
       "      <td>NL</td>\n",
       "      <td>MDG</td>\n",
       "      <td>...</td>\n",
       "      <td>853710</td>\n",
       "      <td>0.999827</td>\n",
       "      <td>852990</td>\n",
       "      <td>validated</td>\n",
       "      <td>Graphic Display Panel</td>\n",
       "      <td>21</td>\n",
       "      <td>853710</td>\n",
       "      <td>123.0</td>\n",
       "      <td>False</td>\n",
       "      <td>&gt;95%</td>\n",
       "    </tr>\n",
       "    <tr>\n",
       "      <th>227612</th>\n",
       "      <td>227612</td>\n",
       "      <td>224581</td>\n",
       "      <td>288581</td>\n",
       "      <td>PFXSP5700TPDF6</td>\n",
       "      <td>852859</td>\n",
       "      <td>8529909200</td>\n",
       "      <td>SE</td>\n",
       "      <td>5</td>\n",
       "      <td>NL</td>\n",
       "      <td>MDG</td>\n",
       "      <td>...</td>\n",
       "      <td>853710</td>\n",
       "      <td>0.999827</td>\n",
       "      <td>852990</td>\n",
       "      <td>validated</td>\n",
       "      <td>Graphic Display Panel</td>\n",
       "      <td>21</td>\n",
       "      <td>853710</td>\n",
       "      <td>123.0</td>\n",
       "      <td>False</td>\n",
       "      <td>&gt;95%</td>\n",
       "    </tr>\n",
       "    <tr>\n",
       "      <th>227613</th>\n",
       "      <td>227613</td>\n",
       "      <td>224582</td>\n",
       "      <td>288582</td>\n",
       "      <td>PFXSP5700TPDF7C</td>\n",
       "      <td>852859</td>\n",
       "      <td>8529909200</td>\n",
       "      <td>SE</td>\n",
       "      <td>5</td>\n",
       "      <td>NL</td>\n",
       "      <td>MDG</td>\n",
       "      <td>...</td>\n",
       "      <td>853710</td>\n",
       "      <td>0.999827</td>\n",
       "      <td>852990</td>\n",
       "      <td>validated</td>\n",
       "      <td>Graphic Display Panel</td>\n",
       "      <td>21</td>\n",
       "      <td>853710</td>\n",
       "      <td>123.0</td>\n",
       "      <td>False</td>\n",
       "      <td>&gt;95%</td>\n",
       "    </tr>\n",
       "    <tr>\n",
       "      <th>227614</th>\n",
       "      <td>227614</td>\n",
       "      <td>224583</td>\n",
       "      <td>288583</td>\n",
       "      <td>PFXSP5700TPDF8</td>\n",
       "      <td>852859</td>\n",
       "      <td>8529909200</td>\n",
       "      <td>SE</td>\n",
       "      <td>5</td>\n",
       "      <td>NL</td>\n",
       "      <td>MDG</td>\n",
       "      <td>...</td>\n",
       "      <td>853710</td>\n",
       "      <td>0.999827</td>\n",
       "      <td>852990</td>\n",
       "      <td>validated</td>\n",
       "      <td>Graphic Display Panel</td>\n",
       "      <td>21</td>\n",
       "      <td>853710</td>\n",
       "      <td>123.0</td>\n",
       "      <td>False</td>\n",
       "      <td>&gt;95%</td>\n",
       "    </tr>\n",
       "    <tr>\n",
       "      <th>227618</th>\n",
       "      <td>227618</td>\n",
       "      <td>224587</td>\n",
       "      <td>288588</td>\n",
       "      <td>PFXSP5B41</td>\n",
       "      <td>847330</td>\n",
       "      <td>8537109199</td>\n",
       "      <td>SE</td>\n",
       "      <td>2</td>\n",
       "      <td>NL</td>\n",
       "      <td>MDG</td>\n",
       "      <td>...</td>\n",
       "      <td>853710</td>\n",
       "      <td>1.000000</td>\n",
       "      <td>853710</td>\n",
       "      <td>Non validated</td>\n",
       "      <td>Graphic Display Panel</td>\n",
       "      <td>21</td>\n",
       "      <td>853710</td>\n",
       "      <td>123.0</td>\n",
       "      <td>True</td>\n",
       "      <td>&gt;95%</td>\n",
       "    </tr>\n",
       "  </tbody>\n",
       "</table>\n",
       "<p>295 rows × 27 columns</p>\n",
       "</div>"
      ],
      "text/plain": [
       "        Unnamed: 0.2  Unnamed: 0.1  Unnamed: 0       ProductNum GlobalHsNum  \\\n",
       "125341        125341        124104      170201    PFXGP3300HLAD      852852   \n",
       "125342        125342        124105      170202  PFXGP3300HLADGK      853710   \n",
       "125343        125343        124106      170203  PFXGP3300HLADRK      853710   \n",
       "125344        125344        124107      170204  PFXGP3300HSADRK      852852   \n",
       "125345        125345        124108      170205    PFXGP3310HTAD      852852   \n",
       "...              ...           ...         ...              ...         ...   \n",
       "227611        227611        224580      288580  PFXSP5700TPDF2C      852859   \n",
       "227612        227612        224581      288581   PFXSP5700TPDF6      852859   \n",
       "227613        227613        224582      288582  PFXSP5700TPDF7C      852859   \n",
       "227614        227614        224583      288583   PFXSP5700TPDF8      852859   \n",
       "227618        227618        224587      288588        PFXSP5B41      847330   \n",
       "\n",
       "       CountryHsNum BusinessUnit  AssuranceLevel CountryCode Datasource  ...  \\\n",
       "125341   8528529100           SE               2          NL        MDG  ...   \n",
       "125342   8471410000           SE               1          NL        MDG  ...   \n",
       "125343   8471410000           SE               1          NL        MDG  ...   \n",
       "125344   8528529100           SE               2          NL        MDG  ...   \n",
       "125345   8528529100           SE               2          NL        MDG  ...   \n",
       "...             ...          ...             ...         ...        ...  ...   \n",
       "227611   8529909200           SE               5          NL        MDG  ...   \n",
       "227612   8529909200           SE               5          NL        MDG  ...   \n",
       "227613   8529909200           SE               5          NL        MDG  ...   \n",
       "227614   8529909200           SE               5          NL        MDG  ...   \n",
       "227618   8537109199           SE               2          NL        MDG  ...   \n",
       "\n",
       "       prediction prediction_probability HS_Code_x      Val-NoVal  \\\n",
       "125341     853710               0.999999    852852  Non validated   \n",
       "125342     853710               0.999999    847141  Non validated   \n",
       "125343     853710               0.999999    847141  Non validated   \n",
       "125344     853710               0.999999    852852  Non validated   \n",
       "125345     853710               0.999999    852852  Non validated   \n",
       "...           ...                    ...       ...            ...   \n",
       "227611     853710               0.999827    852990      validated   \n",
       "227612     853710               0.999827    852990      validated   \n",
       "227613     853710               0.999827    852990      validated   \n",
       "227614     853710               0.999827    852990      validated   \n",
       "227618     853710               1.000000    853710  Non validated   \n",
       "\n",
       "            Medium_desc_Trunc desc_len HS_Code_y  Count_HSCode  Match  \\\n",
       "125341  Graphic Display Panel       21    853710         123.0  False   \n",
       "125342  Graphic Display Panel       21    853710         123.0  False   \n",
       "125343  Graphic Display Panel       21    853710         123.0  False   \n",
       "125344  Graphic Display Panel       21    853710         123.0  False   \n",
       "125345  Graphic Display Panel       21    853710         123.0  False   \n",
       "...                       ...      ...       ...           ...    ...   \n",
       "227611  Graphic Display Panel       21    853710         123.0  False   \n",
       "227612  Graphic Display Panel       21    853710         123.0  False   \n",
       "227613  Graphic Display Panel       21    853710         123.0  False   \n",
       "227614  Graphic Display Panel       21    853710         123.0  False   \n",
       "227618  Graphic Display Panel       21    853710         123.0   True   \n",
       "\n",
       "       pred_label  \n",
       "125341       >95%  \n",
       "125342       >95%  \n",
       "125343       >95%  \n",
       "125344       >95%  \n",
       "125345       >95%  \n",
       "...           ...  \n",
       "227611       >95%  \n",
       "227612       >95%  \n",
       "227613       >95%  \n",
       "227614       >95%  \n",
       "227618       >95%  \n",
       "\n",
       "[295 rows x 27 columns]"
      ]
     },
     "execution_count": 185,
     "metadata": {},
     "output_type": "execute_result"
    }
   ],
   "source": [
    "res_df[res_df['medium_description_pim']=='Graphic Display Panel']"
   ]
  },
  {
   "cell_type": "code",
   "execution_count": 187,
   "id": "0ad95340-02d4-45c7-bbf7-e58b1519c68f",
   "metadata": {},
   "outputs": [
    {
     "data": {
      "text/html": [
       "<div>\n",
       "<style scoped>\n",
       "    .dataframe tbody tr th:only-of-type {\n",
       "        vertical-align: middle;\n",
       "    }\n",
       "\n",
       "    .dataframe tbody tr th {\n",
       "        vertical-align: top;\n",
       "    }\n",
       "\n",
       "    .dataframe thead th {\n",
       "        text-align: right;\n",
       "    }\n",
       "</style>\n",
       "<table border=\"1\" class=\"dataframe\">\n",
       "  <thead>\n",
       "    <tr style=\"text-align: right;\">\n",
       "      <th></th>\n",
       "      <th>Medium_desc_model</th>\n",
       "      <th>HS_Code_model</th>\n",
       "      <th>Val-NoVal_model</th>\n",
       "      <th>index_model</th>\n",
       "      <th>HS_CodeY</th>\n",
       "      <th>index_3</th>\n",
       "      <th>prediction</th>\n",
       "      <th>oh_index</th>\n",
       "      <th>oh_count</th>\n",
       "      <th>oh_code</th>\n",
       "      <th>MATCH</th>\n",
       "    </tr>\n",
       "  </thead>\n",
       "  <tbody>\n",
       "    <tr>\n",
       "      <th>43783</th>\n",
       "      <td>Graphic Display Panel</td>\n",
       "      <td>853710</td>\n",
       "      <td>validated</td>\n",
       "      <td>853710</td>\n",
       "      <td>3529</td>\n",
       "      <td>8</td>\n",
       "      <td>8</td>\n",
       "      <td>853710</td>\n",
       "      <td>3529</td>\n",
       "      <td>8</td>\n",
       "      <td>True</td>\n",
       "    </tr>\n",
       "    <tr>\n",
       "      <th>43784</th>\n",
       "      <td>Graphic Display Panel</td>\n",
       "      <td>853710</td>\n",
       "      <td>validated</td>\n",
       "      <td>853710</td>\n",
       "      <td>3529</td>\n",
       "      <td>8</td>\n",
       "      <td>8</td>\n",
       "      <td>853710</td>\n",
       "      <td>3529</td>\n",
       "      <td>8</td>\n",
       "      <td>True</td>\n",
       "    </tr>\n",
       "    <tr>\n",
       "      <th>43785</th>\n",
       "      <td>Graphic Display Panel</td>\n",
       "      <td>853710</td>\n",
       "      <td>validated</td>\n",
       "      <td>853710</td>\n",
       "      <td>3529</td>\n",
       "      <td>8</td>\n",
       "      <td>8</td>\n",
       "      <td>853710</td>\n",
       "      <td>3529</td>\n",
       "      <td>8</td>\n",
       "      <td>True</td>\n",
       "    </tr>\n",
       "    <tr>\n",
       "      <th>43786</th>\n",
       "      <td>Graphic Display Panel</td>\n",
       "      <td>853710</td>\n",
       "      <td>validated</td>\n",
       "      <td>853710</td>\n",
       "      <td>3529</td>\n",
       "      <td>8</td>\n",
       "      <td>8</td>\n",
       "      <td>853710</td>\n",
       "      <td>3529</td>\n",
       "      <td>8</td>\n",
       "      <td>True</td>\n",
       "    </tr>\n",
       "    <tr>\n",
       "      <th>43787</th>\n",
       "      <td>Graphic Display Panel</td>\n",
       "      <td>853710</td>\n",
       "      <td>validated</td>\n",
       "      <td>853710</td>\n",
       "      <td>3529</td>\n",
       "      <td>8</td>\n",
       "      <td>8</td>\n",
       "      <td>853710</td>\n",
       "      <td>3529</td>\n",
       "      <td>8</td>\n",
       "      <td>True</td>\n",
       "    </tr>\n",
       "    <tr>\n",
       "      <th>...</th>\n",
       "      <td>...</td>\n",
       "      <td>...</td>\n",
       "      <td>...</td>\n",
       "      <td>...</td>\n",
       "      <td>...</td>\n",
       "      <td>...</td>\n",
       "      <td>...</td>\n",
       "      <td>...</td>\n",
       "      <td>...</td>\n",
       "      <td>...</td>\n",
       "      <td>...</td>\n",
       "    </tr>\n",
       "    <tr>\n",
       "      <th>46134</th>\n",
       "      <td>Graphic Display Panel</td>\n",
       "      <td>852990</td>\n",
       "      <td>validated</td>\n",
       "      <td>852990</td>\n",
       "      <td>109</td>\n",
       "      <td>65</td>\n",
       "      <td>8</td>\n",
       "      <td>853710</td>\n",
       "      <td>3529</td>\n",
       "      <td>8</td>\n",
       "      <td>False</td>\n",
       "    </tr>\n",
       "    <tr>\n",
       "      <th>46135</th>\n",
       "      <td>Graphic Display Panel</td>\n",
       "      <td>852990</td>\n",
       "      <td>validated</td>\n",
       "      <td>852990</td>\n",
       "      <td>109</td>\n",
       "      <td>65</td>\n",
       "      <td>8</td>\n",
       "      <td>853710</td>\n",
       "      <td>3529</td>\n",
       "      <td>8</td>\n",
       "      <td>False</td>\n",
       "    </tr>\n",
       "    <tr>\n",
       "      <th>46136</th>\n",
       "      <td>Graphic Display Panel</td>\n",
       "      <td>852990</td>\n",
       "      <td>validated</td>\n",
       "      <td>852990</td>\n",
       "      <td>109</td>\n",
       "      <td>65</td>\n",
       "      <td>8</td>\n",
       "      <td>853710</td>\n",
       "      <td>3529</td>\n",
       "      <td>8</td>\n",
       "      <td>False</td>\n",
       "    </tr>\n",
       "    <tr>\n",
       "      <th>46137</th>\n",
       "      <td>Graphic Display Panel</td>\n",
       "      <td>852990</td>\n",
       "      <td>validated</td>\n",
       "      <td>852990</td>\n",
       "      <td>109</td>\n",
       "      <td>65</td>\n",
       "      <td>8</td>\n",
       "      <td>853710</td>\n",
       "      <td>3529</td>\n",
       "      <td>8</td>\n",
       "      <td>False</td>\n",
       "    </tr>\n",
       "    <tr>\n",
       "      <th>46138</th>\n",
       "      <td>Graphic Display Panel</td>\n",
       "      <td>852990</td>\n",
       "      <td>validated</td>\n",
       "      <td>852990</td>\n",
       "      <td>109</td>\n",
       "      <td>65</td>\n",
       "      <td>8</td>\n",
       "      <td>853710</td>\n",
       "      <td>3529</td>\n",
       "      <td>8</td>\n",
       "      <td>False</td>\n",
       "    </tr>\n",
       "  </tbody>\n",
       "</table>\n",
       "<p>189 rows × 11 columns</p>\n",
       "</div>"
      ],
      "text/plain": [
       "           Medium_desc_model HS_Code_model Val-NoVal_model index_model  \\\n",
       "43783  Graphic Display Panel        853710       validated      853710   \n",
       "43784  Graphic Display Panel        853710       validated      853710   \n",
       "43785  Graphic Display Panel        853710       validated      853710   \n",
       "43786  Graphic Display Panel        853710       validated      853710   \n",
       "43787  Graphic Display Panel        853710       validated      853710   \n",
       "...                      ...           ...             ...         ...   \n",
       "46134  Graphic Display Panel        852990       validated      852990   \n",
       "46135  Graphic Display Panel        852990       validated      852990   \n",
       "46136  Graphic Display Panel        852990       validated      852990   \n",
       "46137  Graphic Display Panel        852990       validated      852990   \n",
       "46138  Graphic Display Panel        852990       validated      852990   \n",
       "\n",
       "       HS_CodeY  index_3  prediction oh_index  oh_count  oh_code  MATCH  \n",
       "43783      3529        8           8   853710      3529        8   True  \n",
       "43784      3529        8           8   853710      3529        8   True  \n",
       "43785      3529        8           8   853710      3529        8   True  \n",
       "43786      3529        8           8   853710      3529        8   True  \n",
       "43787      3529        8           8   853710      3529        8   True  \n",
       "...         ...      ...         ...      ...       ...      ...    ...  \n",
       "46134       109       65           8   853710      3529        8  False  \n",
       "46135       109       65           8   853710      3529        8  False  \n",
       "46136       109       65           8   853710      3529        8  False  \n",
       "46137       109       65           8   853710      3529        8  False  \n",
       "46138       109       65           8   853710      3529        8  False  \n",
       "\n",
       "[189 rows x 11 columns]"
      ]
     },
     "execution_count": 187,
     "metadata": {},
     "output_type": "execute_result"
    }
   ],
   "source": [
    "model_feed_val3[model_feed_val3['Medium_desc_model']=='Graphic Display Panel']"
   ]
  },
  {
   "cell_type": "code",
   "execution_count": 191,
   "id": "0f375b30-b209-47a2-a487-7d0a0692402f",
   "metadata": {},
   "outputs": [
    {
     "data": {
      "text/html": [
       "<div>\n",
       "<style scoped>\n",
       "    .dataframe tbody tr th:only-of-type {\n",
       "        vertical-align: middle;\n",
       "    }\n",
       "\n",
       "    .dataframe tbody tr th {\n",
       "        vertical-align: top;\n",
       "    }\n",
       "\n",
       "    .dataframe thead th {\n",
       "        text-align: right;\n",
       "    }\n",
       "</style>\n",
       "<table border=\"1\" class=\"dataframe\">\n",
       "  <thead>\n",
       "    <tr style=\"text-align: right;\">\n",
       "      <th></th>\n",
       "      <th>medium_description_pim</th>\n",
       "      <th>HS_Code_x_x</th>\n",
       "      <th>Val-NoVal</th>\n",
       "      <th>ProductNum</th>\n",
       "      <th>index</th>\n",
       "      <th>HS_Code_x_y</th>\n",
       "      <th>index_3</th>\n",
       "    </tr>\n",
       "  </thead>\n",
       "  <tbody>\n",
       "    <tr>\n",
       "      <th>84412</th>\n",
       "      <td>Graphic Display Panel</td>\n",
       "      <td>853710</td>\n",
       "      <td>validated</td>\n",
       "      <td>PFXGP4201TADF3C</td>\n",
       "      <td>853710</td>\n",
       "      <td>3529</td>\n",
       "      <td>8</td>\n",
       "    </tr>\n",
       "    <tr>\n",
       "      <th>84413</th>\n",
       "      <td>Graphic Display Panel</td>\n",
       "      <td>853710</td>\n",
       "      <td>validated</td>\n",
       "      <td>PFXGP4201TADWF2</td>\n",
       "      <td>853710</td>\n",
       "      <td>3529</td>\n",
       "      <td>8</td>\n",
       "    </tr>\n",
       "    <tr>\n",
       "      <th>84414</th>\n",
       "      <td>Graphic Display Panel</td>\n",
       "      <td>853710</td>\n",
       "      <td>validated</td>\n",
       "      <td>PFXGP4201TADWF3C</td>\n",
       "      <td>853710</td>\n",
       "      <td>3529</td>\n",
       "      <td>8</td>\n",
       "    </tr>\n",
       "    <tr>\n",
       "      <th>84415</th>\n",
       "      <td>Graphic Display Panel</td>\n",
       "      <td>853710</td>\n",
       "      <td>validated</td>\n",
       "      <td>PFXGP4203TADF3C</td>\n",
       "      <td>853710</td>\n",
       "      <td>3529</td>\n",
       "      <td>8</td>\n",
       "    </tr>\n",
       "    <tr>\n",
       "      <th>84416</th>\n",
       "      <td>Graphic Display Panel</td>\n",
       "      <td>853710</td>\n",
       "      <td>validated</td>\n",
       "      <td>PFXGP4301TADCF2</td>\n",
       "      <td>853710</td>\n",
       "      <td>3529</td>\n",
       "      <td>8</td>\n",
       "    </tr>\n",
       "    <tr>\n",
       "      <th>...</th>\n",
       "      <td>...</td>\n",
       "      <td>...</td>\n",
       "      <td>...</td>\n",
       "      <td>...</td>\n",
       "      <td>...</td>\n",
       "      <td>...</td>\n",
       "      <td>...</td>\n",
       "    </tr>\n",
       "    <tr>\n",
       "      <th>102820</th>\n",
       "      <td>Graphic Display Panel</td>\n",
       "      <td>852990</td>\n",
       "      <td>validated</td>\n",
       "      <td>PFXSP5660TPDF7</td>\n",
       "      <td>852990</td>\n",
       "      <td>109</td>\n",
       "      <td>65</td>\n",
       "    </tr>\n",
       "    <tr>\n",
       "      <th>102821</th>\n",
       "      <td>Graphic Display Panel</td>\n",
       "      <td>852990</td>\n",
       "      <td>validated</td>\n",
       "      <td>PFXSP5700TPDF2C</td>\n",
       "      <td>852990</td>\n",
       "      <td>109</td>\n",
       "      <td>65</td>\n",
       "    </tr>\n",
       "    <tr>\n",
       "      <th>102822</th>\n",
       "      <td>Graphic Display Panel</td>\n",
       "      <td>852990</td>\n",
       "      <td>validated</td>\n",
       "      <td>PFXSP5700TPDF6</td>\n",
       "      <td>852990</td>\n",
       "      <td>109</td>\n",
       "      <td>65</td>\n",
       "    </tr>\n",
       "    <tr>\n",
       "      <th>102823</th>\n",
       "      <td>Graphic Display Panel</td>\n",
       "      <td>852990</td>\n",
       "      <td>validated</td>\n",
       "      <td>PFXSP5700TPDF7C</td>\n",
       "      <td>852990</td>\n",
       "      <td>109</td>\n",
       "      <td>65</td>\n",
       "    </tr>\n",
       "    <tr>\n",
       "      <th>102824</th>\n",
       "      <td>Graphic Display Panel</td>\n",
       "      <td>852990</td>\n",
       "      <td>validated</td>\n",
       "      <td>PFXSP5700TPDF8</td>\n",
       "      <td>852990</td>\n",
       "      <td>109</td>\n",
       "      <td>65</td>\n",
       "    </tr>\n",
       "  </tbody>\n",
       "</table>\n",
       "<p>189 rows × 7 columns</p>\n",
       "</div>"
      ],
      "text/plain": [
       "       medium_description_pim HS_Code_x_x  Val-NoVal        ProductNum  \\\n",
       "84412   Graphic Display Panel      853710  validated   PFXGP4201TADF3C   \n",
       "84413   Graphic Display Panel      853710  validated   PFXGP4201TADWF2   \n",
       "84414   Graphic Display Panel      853710  validated  PFXGP4201TADWF3C   \n",
       "84415   Graphic Display Panel      853710  validated   PFXGP4203TADF3C   \n",
       "84416   Graphic Display Panel      853710  validated   PFXGP4301TADCF2   \n",
       "...                       ...         ...        ...               ...   \n",
       "102820  Graphic Display Panel      852990  validated    PFXSP5660TPDF7   \n",
       "102821  Graphic Display Panel      852990  validated   PFXSP5700TPDF2C   \n",
       "102822  Graphic Display Panel      852990  validated    PFXSP5700TPDF6   \n",
       "102823  Graphic Display Panel      852990  validated   PFXSP5700TPDF7C   \n",
       "102824  Graphic Display Panel      852990  validated    PFXSP5700TPDF8   \n",
       "\n",
       "         index  HS_Code_x_y  index_3  \n",
       "84412   853710         3529        8  \n",
       "84413   853710         3529        8  \n",
       "84414   853710         3529        8  \n",
       "84415   853710         3529        8  \n",
       "84416   853710         3529        8  \n",
       "...        ...          ...      ...  \n",
       "102820  852990          109       65  \n",
       "102821  852990          109       65  \n",
       "102822  852990          109       65  \n",
       "102823  852990          109       65  \n",
       "102824  852990          109       65  \n",
       "\n",
       "[189 rows x 7 columns]"
      ]
     },
     "execution_count": 191,
     "metadata": {},
     "output_type": "execute_result"
    }
   ],
   "source": [
    "model_feed_val2[model_feed_val2['medium_description_pim']=='Graphic Display Panel']"
   ]
  },
  {
   "cell_type": "code",
   "execution_count": 192,
   "id": "7705c366-73a6-43df-9359-3bfa47d059b8",
   "metadata": {},
   "outputs": [
    {
     "data": {
      "text/plain": [
       "1"
      ]
     },
     "execution_count": 192,
     "metadata": {},
     "output_type": "execute_result"
    }
   ],
   "source": [
    "1"
   ]
  },
  {
   "cell_type": "code",
   "execution_count": 228,
   "id": "da7f9eac-6696-4086-a1f5-8618c7dd94ed",
   "metadata": {},
   "outputs": [
    {
     "data": {
      "text/html": [
       "<div>\n",
       "<style scoped>\n",
       "    .dataframe tbody tr th:only-of-type {\n",
       "        vertical-align: middle;\n",
       "    }\n",
       "\n",
       "    .dataframe tbody tr th {\n",
       "        vertical-align: top;\n",
       "    }\n",
       "\n",
       "    .dataframe thead th {\n",
       "        text-align: right;\n",
       "    }\n",
       "</style>\n",
       "<table border=\"1\" class=\"dataframe\">\n",
       "  <thead>\n",
       "    <tr style=\"text-align: right;\">\n",
       "      <th></th>\n",
       "      <th>medium_description_pim</th>\n",
       "      <th>HS_Code_x_x</th>\n",
       "      <th>Val-NoVal</th>\n",
       "      <th>ProductNum</th>\n",
       "      <th>index</th>\n",
       "      <th>HS_Code_x_y</th>\n",
       "      <th>index_3</th>\n",
       "      <th>prediction</th>\n",
       "    </tr>\n",
       "  </thead>\n",
       "  <tbody>\n",
       "    <tr>\n",
       "      <th>39413</th>\n",
       "      <td>CANALIS KT 5X3200AL FEEDER LENGTH</td>\n",
       "      <td>854449</td>\n",
       "      <td>validated</td>\n",
       "      <td>KTA3200ET53E</td>\n",
       "      <td>854449</td>\n",
       "      <td>2216</td>\n",
       "      <td>12</td>\n",
       "      <td>12</td>\n",
       "    </tr>\n",
       "    <tr>\n",
       "      <th>39414</th>\n",
       "      <td>CANALIS KT 5X3200AL FEEDER LENGTH</td>\n",
       "      <td>854449</td>\n",
       "      <td>validated</td>\n",
       "      <td>KTA3200ET61A</td>\n",
       "      <td>854449</td>\n",
       "      <td>2216</td>\n",
       "      <td>12</td>\n",
       "      <td>12</td>\n",
       "    </tr>\n",
       "    <tr>\n",
       "      <th>39415</th>\n",
       "      <td>CANALIS KT 5X3200AL FEEDER LENGTH</td>\n",
       "      <td>854449</td>\n",
       "      <td>validated</td>\n",
       "      <td>KTA3200ET62C</td>\n",
       "      <td>854449</td>\n",
       "      <td>2216</td>\n",
       "      <td>12</td>\n",
       "      <td>12</td>\n",
       "    </tr>\n",
       "    <tr>\n",
       "      <th>39420</th>\n",
       "      <td>CANALIS KT 5X3200AL FEEDER LENGTH</td>\n",
       "      <td>854449</td>\n",
       "      <td>validated</td>\n",
       "      <td>KTA3200ET73E</td>\n",
       "      <td>854449</td>\n",
       "      <td>2216</td>\n",
       "      <td>12</td>\n",
       "      <td>12</td>\n",
       "    </tr>\n",
       "    <tr>\n",
       "      <th>40115</th>\n",
       "      <td>CANALIS KT 5X3200AL FEEDER LENGTH</td>\n",
       "      <td>854449</td>\n",
       "      <td>validated</td>\n",
       "      <td>KTA3200ET62B</td>\n",
       "      <td>854449</td>\n",
       "      <td>2216</td>\n",
       "      <td>12</td>\n",
       "      <td>12</td>\n",
       "    </tr>\n",
       "    <tr>\n",
       "      <th>40120</th>\n",
       "      <td>CANALIS KT 5X3200AL FEEDER LENGTH</td>\n",
       "      <td>854449</td>\n",
       "      <td>validated</td>\n",
       "      <td>KTA3200ET73F</td>\n",
       "      <td>854449</td>\n",
       "      <td>2216</td>\n",
       "      <td>12</td>\n",
       "      <td>12</td>\n",
       "    </tr>\n",
       "    <tr>\n",
       "      <th>40870</th>\n",
       "      <td>CANALIS KT 5X3200AL FEEDER LENGTH</td>\n",
       "      <td>854449</td>\n",
       "      <td>validated</td>\n",
       "      <td>KTA3200ET53F</td>\n",
       "      <td>854449</td>\n",
       "      <td>2216</td>\n",
       "      <td>12</td>\n",
       "      <td>12</td>\n",
       "    </tr>\n",
       "    <tr>\n",
       "      <th>40871</th>\n",
       "      <td>CANALIS KT 5X3200AL FEEDER LENGTH</td>\n",
       "      <td>854449</td>\n",
       "      <td>validated</td>\n",
       "      <td>KTA3200ET63D</td>\n",
       "      <td>854449</td>\n",
       "      <td>2216</td>\n",
       "      <td>12</td>\n",
       "      <td>12</td>\n",
       "    </tr>\n",
       "  </tbody>\n",
       "</table>\n",
       "</div>"
      ],
      "text/plain": [
       "                  medium_description_pim HS_Code_x_x  Val-NoVal    ProductNum  \\\n",
       "39413  CANALIS KT 5X3200AL FEEDER LENGTH      854449  validated  KTA3200ET53E   \n",
       "39414  CANALIS KT 5X3200AL FEEDER LENGTH      854449  validated  KTA3200ET61A   \n",
       "39415  CANALIS KT 5X3200AL FEEDER LENGTH      854449  validated  KTA3200ET62C   \n",
       "39420  CANALIS KT 5X3200AL FEEDER LENGTH      854449  validated  KTA3200ET73E   \n",
       "40115  CANALIS KT 5X3200AL FEEDER LENGTH      854449  validated  KTA3200ET62B   \n",
       "40120  CANALIS KT 5X3200AL FEEDER LENGTH      854449  validated  KTA3200ET73F   \n",
       "40870  CANALIS KT 5X3200AL FEEDER LENGTH      854449  validated  KTA3200ET53F   \n",
       "40871  CANALIS KT 5X3200AL FEEDER LENGTH      854449  validated  KTA3200ET63D   \n",
       "\n",
       "        index  HS_Code_x_y  index_3  prediction  \n",
       "39413  854449         2216       12          12  \n",
       "39414  854449         2216       12          12  \n",
       "39415  854449         2216       12          12  \n",
       "39420  854449         2216       12          12  \n",
       "40115  854449         2216       12          12  \n",
       "40120  854449         2216       12          12  \n",
       "40870  854449         2216       12          12  \n",
       "40871  854449         2216       12          12  "
      ]
     },
     "execution_count": 228,
     "metadata": {},
     "output_type": "execute_result"
    }
   ],
   "source": [
    "model_feed_val2[model_feed_val2['medium_description_pim']== 'CANALIS KT 5X3200AL FEEDER LENGTH']"
   ]
  },
  {
   "cell_type": "code",
   "execution_count": 230,
   "id": "aeb2900d-e4cc-46af-957b-5c5728db95bc",
   "metadata": {},
   "outputs": [
    {
     "data": {
      "text/html": [
       "<div>\n",
       "<style scoped>\n",
       "    .dataframe tbody tr th:only-of-type {\n",
       "        vertical-align: middle;\n",
       "    }\n",
       "\n",
       "    .dataframe tbody tr th {\n",
       "        vertical-align: top;\n",
       "    }\n",
       "\n",
       "    .dataframe thead th {\n",
       "        text-align: right;\n",
       "    }\n",
       "</style>\n",
       "<table border=\"1\" class=\"dataframe\">\n",
       "  <thead>\n",
       "    <tr style=\"text-align: right;\">\n",
       "      <th></th>\n",
       "      <th>oh_index</th>\n",
       "      <th>oh_count</th>\n",
       "      <th>oh_code</th>\n",
       "    </tr>\n",
       "  </thead>\n",
       "  <tbody>\n",
       "    <tr>\n",
       "      <th>12</th>\n",
       "      <td>854449</td>\n",
       "      <td>2216</td>\n",
       "      <td>12</td>\n",
       "    </tr>\n",
       "  </tbody>\n",
       "</table>\n",
       "</div>"
      ],
      "text/plain": [
       "   oh_index  oh_count  oh_code\n",
       "12   854449      2216       12"
      ]
     },
     "execution_count": 230,
     "metadata": {},
     "output_type": "execute_result"
    }
   ],
   "source": [
    "df_for_onehot[df_for_onehot['oh_code']==12]"
   ]
  },
  {
   "cell_type": "code",
   "execution_count": null,
   "id": "fbe8a974-0cb0-4068-a7ff-b7144f043b08",
   "metadata": {},
   "outputs": [],
   "source": []
  }
 ],
 "metadata": {
  "kernelspec": {
   "display_name": "Python 3 (ipykernel)",
   "language": "python",
   "name": "python3"
  },
  "language_info": {
   "codemirror_mode": {
    "name": "ipython",
    "version": 3
   },
   "file_extension": ".py",
   "mimetype": "text/x-python",
   "name": "python",
   "nbconvert_exporter": "python",
   "pygments_lexer": "ipython3",
   "version": "3.9.12"
  }
 },
 "nbformat": 4,
 "nbformat_minor": 5
}
